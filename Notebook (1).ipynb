{
 "cells": [
  {
   "cell_type": "code",
   "execution_count": 27,
   "metadata": {},
   "outputs": [],
   "source": [
    "import pandas as pd\n",
    "import numpy as np\n",
    "import matplotlib as plt"
   ]
  },
  {
   "cell_type": "code",
   "execution_count": 28,
   "metadata": {},
   "outputs": [],
   "source": [
    "NASDAQ = pd.read_csv('Data/NASDAQ 1962-2024.csv') \n",
    "NYSE = pd.read_csv('Data/NYSE 1962-2024.csv')\n",
    "NYSE_A =  pd.read_csv('Data/NYSE A 1973-2024.csv')\n",
    "OTC =  pd.read_csv('Data/OTC 1972-2024.csv')"
   ]
  },
  {
   "cell_type": "code",
   "execution_count": 29,
   "metadata": {},
   "outputs": [
    {
     "name": "stdout",
     "output_type": "stream",
     "text": [
      "<class 'pandas.core.frame.DataFrame'>\n",
      "RangeIndex: 11470963 entries, 0 to 11470962\n",
      "Data columns (total 9 columns):\n",
      " #   Column     Dtype  \n",
      "---  ------     -----  \n",
      " 0   Date       object \n",
      " 1   Ticker     object \n",
      " 2   Exchange   object \n",
      " 3   Open       float64\n",
      " 4   High       float64\n",
      " 5   Low        float64\n",
      " 6   Close      float64\n",
      " 7   Adj Close  float64\n",
      " 8   Volume     float64\n",
      "dtypes: float64(6), object(3)\n",
      "memory usage: 787.6+ MB\n"
     ]
    }
   ],
   "source": [
    "NASDAQ.info()"
   ]
  },
  {
   "cell_type": "code",
   "execution_count": 30,
   "metadata": {},
   "outputs": [
    {
     "data": {
      "text/html": [
       "<div>\n",
       "<style scoped>\n",
       "    .dataframe tbody tr th:only-of-type {\n",
       "        vertical-align: middle;\n",
       "    }\n",
       "\n",
       "    .dataframe tbody tr th {\n",
       "        vertical-align: top;\n",
       "    }\n",
       "\n",
       "    .dataframe thead th {\n",
       "        text-align: right;\n",
       "    }\n",
       "</style>\n",
       "<table border=\"1\" class=\"dataframe\">\n",
       "  <thead>\n",
       "    <tr style=\"text-align: right;\">\n",
       "      <th></th>\n",
       "      <th>Date</th>\n",
       "      <th>Ticker</th>\n",
       "      <th>Exchange</th>\n",
       "      <th>Open</th>\n",
       "      <th>High</th>\n",
       "      <th>Low</th>\n",
       "      <th>Close</th>\n",
       "      <th>Adj Close</th>\n",
       "      <th>Volume</th>\n",
       "    </tr>\n",
       "  </thead>\n",
       "  <tbody>\n",
       "    <tr>\n",
       "      <th>0</th>\n",
       "      <td>2008-01-29</td>\n",
       "      <td>AACG</td>\n",
       "      <td>NASDAQ</td>\n",
       "      <td>9.50</td>\n",
       "      <td>9.99</td>\n",
       "      <td>8.57</td>\n",
       "      <td>8.75</td>\n",
       "      <td>0.702589</td>\n",
       "      <td>1489000.0</td>\n",
       "    </tr>\n",
       "    <tr>\n",
       "      <th>1</th>\n",
       "      <td>2008-01-30</td>\n",
       "      <td>AACG</td>\n",
       "      <td>NASDAQ</td>\n",
       "      <td>8.75</td>\n",
       "      <td>9.15</td>\n",
       "      <td>8.30</td>\n",
       "      <td>8.50</td>\n",
       "      <td>0.682515</td>\n",
       "      <td>219000.0</td>\n",
       "    </tr>\n",
       "    <tr>\n",
       "      <th>2</th>\n",
       "      <td>2008-01-31</td>\n",
       "      <td>AACG</td>\n",
       "      <td>NASDAQ</td>\n",
       "      <td>8.49</td>\n",
       "      <td>10.30</td>\n",
       "      <td>8.49</td>\n",
       "      <td>9.55</td>\n",
       "      <td>0.766826</td>\n",
       "      <td>182300.0</td>\n",
       "    </tr>\n",
       "    <tr>\n",
       "      <th>3</th>\n",
       "      <td>2008-02-01</td>\n",
       "      <td>AACG</td>\n",
       "      <td>NASDAQ</td>\n",
       "      <td>9.93</td>\n",
       "      <td>9.94</td>\n",
       "      <td>9.50</td>\n",
       "      <td>9.51</td>\n",
       "      <td>0.763614</td>\n",
       "      <td>28200.0</td>\n",
       "    </tr>\n",
       "    <tr>\n",
       "      <th>4</th>\n",
       "      <td>2008-02-04</td>\n",
       "      <td>AACG</td>\n",
       "      <td>NASDAQ</td>\n",
       "      <td>9.50</td>\n",
       "      <td>9.71</td>\n",
       "      <td>9.50</td>\n",
       "      <td>9.50</td>\n",
       "      <td>0.762811</td>\n",
       "      <td>8300.0</td>\n",
       "    </tr>\n",
       "  </tbody>\n",
       "</table>\n",
       "</div>"
      ],
      "text/plain": [
       "         Date Ticker Exchange  Open   High   Low  Close  Adj Close     Volume\n",
       "0  2008-01-29   AACG   NASDAQ  9.50   9.99  8.57   8.75   0.702589  1489000.0\n",
       "1  2008-01-30   AACG   NASDAQ  8.75   9.15  8.30   8.50   0.682515   219000.0\n",
       "2  2008-01-31   AACG   NASDAQ  8.49  10.30  8.49   9.55   0.766826   182300.0\n",
       "3  2008-02-01   AACG   NASDAQ  9.93   9.94  9.50   9.51   0.763614    28200.0\n",
       "4  2008-02-04   AACG   NASDAQ  9.50   9.71  9.50   9.50   0.762811     8300.0"
      ]
     },
     "execution_count": 30,
     "metadata": {},
     "output_type": "execute_result"
    }
   ],
   "source": [
    "NASDAQ.head()"
   ]
  },
  {
   "cell_type": "code",
   "execution_count": 31,
   "metadata": {},
   "outputs": [
    {
     "data": {
      "text/html": [
       "<div>\n",
       "<style scoped>\n",
       "    .dataframe tbody tr th:only-of-type {\n",
       "        vertical-align: middle;\n",
       "    }\n",
       "\n",
       "    .dataframe tbody tr th {\n",
       "        vertical-align: top;\n",
       "    }\n",
       "\n",
       "    .dataframe thead th {\n",
       "        text-align: right;\n",
       "    }\n",
       "</style>\n",
       "<table border=\"1\" class=\"dataframe\">\n",
       "  <thead>\n",
       "    <tr style=\"text-align: right;\">\n",
       "      <th></th>\n",
       "      <th>Date</th>\n",
       "      <th>Ticker</th>\n",
       "      <th>Exchange</th>\n",
       "      <th>Open</th>\n",
       "      <th>High</th>\n",
       "      <th>Low</th>\n",
       "      <th>Close</th>\n",
       "      <th>Adj Close</th>\n",
       "      <th>Volume</th>\n",
       "    </tr>\n",
       "  </thead>\n",
       "  <tbody>\n",
       "    <tr>\n",
       "      <th>8291044</th>\n",
       "      <td>2017-08-31</td>\n",
       "      <td>PRQR</td>\n",
       "      <td>NASDAQ</td>\n",
       "      <td>5.25</td>\n",
       "      <td>5.6</td>\n",
       "      <td>5.25</td>\n",
       "      <td>5.55</td>\n",
       "      <td>5.55</td>\n",
       "      <td>62600.0</td>\n",
       "    </tr>\n",
       "  </tbody>\n",
       "</table>\n",
       "</div>"
      ],
      "text/plain": [
       "               Date Ticker Exchange  Open  High   Low  Close  Adj Close  \\\n",
       "8291044  2017-08-31   PRQR   NASDAQ  5.25   5.6  5.25   5.55       5.55   \n",
       "\n",
       "          Volume  \n",
       "8291044  62600.0  "
      ]
     },
     "execution_count": 31,
     "metadata": {},
     "output_type": "execute_result"
    }
   ],
   "source": [
    "NASDAQ.sample()"
   ]
  },
  {
   "cell_type": "code",
   "execution_count": 32,
   "metadata": {},
   "outputs": [
    {
     "name": "stdout",
     "output_type": "stream",
     "text": [
      "<class 'pandas.core.frame.DataFrame'>\n",
      "RangeIndex: 10844147 entries, 0 to 10844146\n",
      "Data columns (total 9 columns):\n",
      " #   Column     Dtype  \n",
      "---  ------     -----  \n",
      " 0   Date       object \n",
      " 1   Ticker     object \n",
      " 2   Exchange   object \n",
      " 3   Open       float64\n",
      " 4   High       float64\n",
      " 5   Low        float64\n",
      " 6   Close      float64\n",
      " 7   Adj Close  float64\n",
      " 8   Volume     float64\n",
      "dtypes: float64(6), object(3)\n",
      "memory usage: 744.6+ MB\n"
     ]
    }
   ],
   "source": [
    "NYSE.info()"
   ]
  },
  {
   "cell_type": "code",
   "execution_count": 33,
   "metadata": {},
   "outputs": [
    {
     "data": {
      "text/html": [
       "<div>\n",
       "<style scoped>\n",
       "    .dataframe tbody tr th:only-of-type {\n",
       "        vertical-align: middle;\n",
       "    }\n",
       "\n",
       "    .dataframe tbody tr th {\n",
       "        vertical-align: top;\n",
       "    }\n",
       "\n",
       "    .dataframe thead th {\n",
       "        text-align: right;\n",
       "    }\n",
       "</style>\n",
       "<table border=\"1\" class=\"dataframe\">\n",
       "  <thead>\n",
       "    <tr style=\"text-align: right;\">\n",
       "      <th></th>\n",
       "      <th>Date</th>\n",
       "      <th>Ticker</th>\n",
       "      <th>Exchange</th>\n",
       "      <th>Open</th>\n",
       "      <th>High</th>\n",
       "      <th>Low</th>\n",
       "      <th>Close</th>\n",
       "      <th>Adj Close</th>\n",
       "      <th>Volume</th>\n",
       "    </tr>\n",
       "  </thead>\n",
       "  <tbody>\n",
       "    <tr>\n",
       "      <th>0</th>\n",
       "      <td>1999-11-18</td>\n",
       "      <td>A</td>\n",
       "      <td>NYSE</td>\n",
       "      <td>32.546494</td>\n",
       "      <td>35.765381</td>\n",
       "      <td>28.612303</td>\n",
       "      <td>31.473534</td>\n",
       "      <td>26.652395</td>\n",
       "      <td>62546380.0</td>\n",
       "    </tr>\n",
       "    <tr>\n",
       "      <th>1</th>\n",
       "      <td>1999-11-19</td>\n",
       "      <td>A</td>\n",
       "      <td>NYSE</td>\n",
       "      <td>30.713518</td>\n",
       "      <td>30.758226</td>\n",
       "      <td>28.478184</td>\n",
       "      <td>28.880545</td>\n",
       "      <td>24.456600</td>\n",
       "      <td>15234146.0</td>\n",
       "    </tr>\n",
       "    <tr>\n",
       "      <th>2</th>\n",
       "      <td>1999-11-22</td>\n",
       "      <td>A</td>\n",
       "      <td>NYSE</td>\n",
       "      <td>29.551144</td>\n",
       "      <td>31.473534</td>\n",
       "      <td>28.657009</td>\n",
       "      <td>31.473534</td>\n",
       "      <td>26.652395</td>\n",
       "      <td>6577870.0</td>\n",
       "    </tr>\n",
       "    <tr>\n",
       "      <th>3</th>\n",
       "      <td>1999-11-23</td>\n",
       "      <td>A</td>\n",
       "      <td>NYSE</td>\n",
       "      <td>30.400572</td>\n",
       "      <td>31.205294</td>\n",
       "      <td>28.612303</td>\n",
       "      <td>28.612303</td>\n",
       "      <td>24.229450</td>\n",
       "      <td>5975611.0</td>\n",
       "    </tr>\n",
       "    <tr>\n",
       "      <th>4</th>\n",
       "      <td>1999-11-24</td>\n",
       "      <td>A</td>\n",
       "      <td>NYSE</td>\n",
       "      <td>28.701717</td>\n",
       "      <td>29.998213</td>\n",
       "      <td>28.612303</td>\n",
       "      <td>29.372318</td>\n",
       "      <td>24.873047</td>\n",
       "      <td>4843231.0</td>\n",
       "    </tr>\n",
       "  </tbody>\n",
       "</table>\n",
       "</div>"
      ],
      "text/plain": [
       "         Date Ticker Exchange       Open       High        Low      Close  \\\n",
       "0  1999-11-18      A     NYSE  32.546494  35.765381  28.612303  31.473534   \n",
       "1  1999-11-19      A     NYSE  30.713518  30.758226  28.478184  28.880545   \n",
       "2  1999-11-22      A     NYSE  29.551144  31.473534  28.657009  31.473534   \n",
       "3  1999-11-23      A     NYSE  30.400572  31.205294  28.612303  28.612303   \n",
       "4  1999-11-24      A     NYSE  28.701717  29.998213  28.612303  29.372318   \n",
       "\n",
       "   Adj Close      Volume  \n",
       "0  26.652395  62546380.0  \n",
       "1  24.456600  15234146.0  \n",
       "2  26.652395   6577870.0  \n",
       "3  24.229450   5975611.0  \n",
       "4  24.873047   4843231.0  "
      ]
     },
     "execution_count": 33,
     "metadata": {},
     "output_type": "execute_result"
    }
   ],
   "source": [
    "NYSE.head()"
   ]
  },
  {
   "cell_type": "code",
   "execution_count": 34,
   "metadata": {},
   "outputs": [
    {
     "data": {
      "text/html": [
       "<div>\n",
       "<style scoped>\n",
       "    .dataframe tbody tr th:only-of-type {\n",
       "        vertical-align: middle;\n",
       "    }\n",
       "\n",
       "    .dataframe tbody tr th {\n",
       "        vertical-align: top;\n",
       "    }\n",
       "\n",
       "    .dataframe thead th {\n",
       "        text-align: right;\n",
       "    }\n",
       "</style>\n",
       "<table border=\"1\" class=\"dataframe\">\n",
       "  <thead>\n",
       "    <tr style=\"text-align: right;\">\n",
       "      <th></th>\n",
       "      <th>Date</th>\n",
       "      <th>Ticker</th>\n",
       "      <th>Exchange</th>\n",
       "      <th>Open</th>\n",
       "      <th>High</th>\n",
       "      <th>Low</th>\n",
       "      <th>Close</th>\n",
       "      <th>Adj Close</th>\n",
       "      <th>Volume</th>\n",
       "    </tr>\n",
       "  </thead>\n",
       "  <tbody>\n",
       "    <tr>\n",
       "      <th>10425987</th>\n",
       "      <td>2020-07-30</td>\n",
       "      <td>WFC</td>\n",
       "      <td>NYSE</td>\n",
       "      <td>25.190001</td>\n",
       "      <td>25.24</td>\n",
       "      <td>24.5</td>\n",
       "      <td>24.65</td>\n",
       "      <td>22.55134</td>\n",
       "      <td>51019200.0</td>\n",
       "    </tr>\n",
       "  </tbody>\n",
       "</table>\n",
       "</div>"
      ],
      "text/plain": [
       "                Date Ticker Exchange       Open   High   Low  Close  \\\n",
       "10425987  2020-07-30    WFC     NYSE  25.190001  25.24  24.5  24.65   \n",
       "\n",
       "          Adj Close      Volume  \n",
       "10425987   22.55134  51019200.0  "
      ]
     },
     "execution_count": 34,
     "metadata": {},
     "output_type": "execute_result"
    }
   ],
   "source": [
    "NYSE.sample()"
   ]
  },
  {
   "cell_type": "code",
   "execution_count": 35,
   "metadata": {},
   "outputs": [
    {
     "name": "stdout",
     "output_type": "stream",
     "text": [
      "<class 'pandas.core.frame.DataFrame'>\n",
      "RangeIndex: 1020222 entries, 0 to 1020221\n",
      "Data columns (total 9 columns):\n",
      " #   Column     Non-Null Count    Dtype  \n",
      "---  ------     --------------    -----  \n",
      " 0   Date       1020222 non-null  object \n",
      " 1   Ticker     1020222 non-null  object \n",
      " 2   Exchange   1020222 non-null  object \n",
      " 3   Open       1020221 non-null  float64\n",
      " 4   High       1020221 non-null  float64\n",
      " 5   Low        1020221 non-null  float64\n",
      " 6   Close      1020221 non-null  float64\n",
      " 7   Adj Close  1020221 non-null  float64\n",
      " 8   Volume     1020221 non-null  float64\n",
      "dtypes: float64(6), object(3)\n",
      "memory usage: 70.1+ MB\n"
     ]
    }
   ],
   "source": [
    "NYSE_A.info()"
   ]
  },
  {
   "cell_type": "code",
   "execution_count": 36,
   "metadata": {},
   "outputs": [
    {
     "data": {
      "text/html": [
       "<div>\n",
       "<style scoped>\n",
       "    .dataframe tbody tr th:only-of-type {\n",
       "        vertical-align: middle;\n",
       "    }\n",
       "\n",
       "    .dataframe tbody tr th {\n",
       "        vertical-align: top;\n",
       "    }\n",
       "\n",
       "    .dataframe thead th {\n",
       "        text-align: right;\n",
       "    }\n",
       "</style>\n",
       "<table border=\"1\" class=\"dataframe\">\n",
       "  <thead>\n",
       "    <tr style=\"text-align: right;\">\n",
       "      <th></th>\n",
       "      <th>Date</th>\n",
       "      <th>Ticker</th>\n",
       "      <th>Exchange</th>\n",
       "      <th>Open</th>\n",
       "      <th>High</th>\n",
       "      <th>Low</th>\n",
       "      <th>Close</th>\n",
       "      <th>Adj Close</th>\n",
       "      <th>Volume</th>\n",
       "    </tr>\n",
       "  </thead>\n",
       "  <tbody>\n",
       "    <tr>\n",
       "      <th>0</th>\n",
       "      <td>2022-03-21</td>\n",
       "      <td>AAMC</td>\n",
       "      <td>NYSE A</td>\n",
       "      <td>9.935294</td>\n",
       "      <td>11.000000</td>\n",
       "      <td>8.235294</td>\n",
       "      <td>9.264706</td>\n",
       "      <td>9.264706</td>\n",
       "      <td>123760.0</td>\n",
       "    </tr>\n",
       "    <tr>\n",
       "      <th>1</th>\n",
       "      <td>2022-03-22</td>\n",
       "      <td>AAMC</td>\n",
       "      <td>NYSE A</td>\n",
       "      <td>8.655882</td>\n",
       "      <td>10.247059</td>\n",
       "      <td>8.352941</td>\n",
       "      <td>8.647059</td>\n",
       "      <td>8.647059</td>\n",
       "      <td>143820.0</td>\n",
       "    </tr>\n",
       "    <tr>\n",
       "      <th>2</th>\n",
       "      <td>2022-03-23</td>\n",
       "      <td>AAMC</td>\n",
       "      <td>NYSE A</td>\n",
       "      <td>8.764706</td>\n",
       "      <td>9.352941</td>\n",
       "      <td>8.147059</td>\n",
       "      <td>8.264706</td>\n",
       "      <td>8.264706</td>\n",
       "      <td>102170.0</td>\n",
       "    </tr>\n",
       "    <tr>\n",
       "      <th>3</th>\n",
       "      <td>2022-03-24</td>\n",
       "      <td>AAMC</td>\n",
       "      <td>NYSE A</td>\n",
       "      <td>8.326471</td>\n",
       "      <td>8.558824</td>\n",
       "      <td>8.294118</td>\n",
       "      <td>8.394118</td>\n",
       "      <td>8.394118</td>\n",
       "      <td>12580.0</td>\n",
       "    </tr>\n",
       "    <tr>\n",
       "      <th>4</th>\n",
       "      <td>2022-03-25</td>\n",
       "      <td>AAMC</td>\n",
       "      <td>NYSE A</td>\n",
       "      <td>8.352941</td>\n",
       "      <td>9.250000</td>\n",
       "      <td>8.352941</td>\n",
       "      <td>8.958824</td>\n",
       "      <td>8.958824</td>\n",
       "      <td>56610.0</td>\n",
       "    </tr>\n",
       "  </tbody>\n",
       "</table>\n",
       "</div>"
      ],
      "text/plain": [
       "         Date Ticker Exchange      Open       High       Low     Close  \\\n",
       "0  2022-03-21   AAMC   NYSE A  9.935294  11.000000  8.235294  9.264706   \n",
       "1  2022-03-22   AAMC   NYSE A  8.655882  10.247059  8.352941  8.647059   \n",
       "2  2022-03-23   AAMC   NYSE A  8.764706   9.352941  8.147059  8.264706   \n",
       "3  2022-03-24   AAMC   NYSE A  8.326471   8.558824  8.294118  8.394118   \n",
       "4  2022-03-25   AAMC   NYSE A  8.352941   9.250000  8.352941  8.958824   \n",
       "\n",
       "   Adj Close    Volume  \n",
       "0   9.264706  123760.0  \n",
       "1   8.647059  143820.0  \n",
       "2   8.264706  102170.0  \n",
       "3   8.394118   12580.0  \n",
       "4   8.958824   56610.0  "
      ]
     },
     "execution_count": 36,
     "metadata": {},
     "output_type": "execute_result"
    }
   ],
   "source": [
    "NYSE_A.head()"
   ]
  },
  {
   "cell_type": "code",
   "execution_count": 37,
   "metadata": {},
   "outputs": [
    {
     "data": {
      "text/html": [
       "<div>\n",
       "<style scoped>\n",
       "    .dataframe tbody tr th:only-of-type {\n",
       "        vertical-align: middle;\n",
       "    }\n",
       "\n",
       "    .dataframe tbody tr th {\n",
       "        vertical-align: top;\n",
       "    }\n",
       "\n",
       "    .dataframe thead th {\n",
       "        text-align: right;\n",
       "    }\n",
       "</style>\n",
       "<table border=\"1\" class=\"dataframe\">\n",
       "  <thead>\n",
       "    <tr style=\"text-align: right;\">\n",
       "      <th></th>\n",
       "      <th>Date</th>\n",
       "      <th>Ticker</th>\n",
       "      <th>Exchange</th>\n",
       "      <th>Open</th>\n",
       "      <th>High</th>\n",
       "      <th>Low</th>\n",
       "      <th>Close</th>\n",
       "      <th>Adj Close</th>\n",
       "      <th>Volume</th>\n",
       "    </tr>\n",
       "  </thead>\n",
       "  <tbody>\n",
       "    <tr>\n",
       "      <th>962277</th>\n",
       "      <td>1998-10-06</td>\n",
       "      <td>UUU</td>\n",
       "      <td>NYSE A</td>\n",
       "      <td>0.369141</td>\n",
       "      <td>0.369141</td>\n",
       "      <td>0.369141</td>\n",
       "      <td>0.369141</td>\n",
       "      <td>0.369141</td>\n",
       "      <td>0.0</td>\n",
       "    </tr>\n",
       "  </tbody>\n",
       "</table>\n",
       "</div>"
      ],
      "text/plain": [
       "              Date Ticker Exchange      Open      High       Low     Close  \\\n",
       "962277  1998-10-06    UUU   NYSE A  0.369141  0.369141  0.369141  0.369141   \n",
       "\n",
       "        Adj Close  Volume  \n",
       "962277   0.369141     0.0  "
      ]
     },
     "execution_count": 37,
     "metadata": {},
     "output_type": "execute_result"
    }
   ],
   "source": [
    "NYSE_A.sample()"
   ]
  },
  {
   "cell_type": "code",
   "execution_count": 38,
   "metadata": {},
   "outputs": [
    {
     "name": "stdout",
     "output_type": "stream",
     "text": [
      "<class 'pandas.core.frame.DataFrame'>\n",
      "RangeIndex: 2521996 entries, 0 to 2521995\n",
      "Data columns (total 9 columns):\n",
      " #   Column     Dtype  \n",
      "---  ------     -----  \n",
      " 0   Date       object \n",
      " 1   Ticker     object \n",
      " 2   Exchange   object \n",
      " 3   Open       float64\n",
      " 4   High       float64\n",
      " 5   Low        float64\n",
      " 6   Close      float64\n",
      " 7   Adj Close  float64\n",
      " 8   Volume     float64\n",
      "dtypes: float64(6), object(3)\n",
      "memory usage: 173.2+ MB\n"
     ]
    }
   ],
   "source": [
    "OTC.info()"
   ]
  },
  {
   "cell_type": "code",
   "execution_count": 39,
   "metadata": {},
   "outputs": [
    {
     "data": {
      "text/html": [
       "<div>\n",
       "<style scoped>\n",
       "    .dataframe tbody tr th:only-of-type {\n",
       "        vertical-align: middle;\n",
       "    }\n",
       "\n",
       "    .dataframe tbody tr th {\n",
       "        vertical-align: top;\n",
       "    }\n",
       "\n",
       "    .dataframe thead th {\n",
       "        text-align: right;\n",
       "    }\n",
       "</style>\n",
       "<table border=\"1\" class=\"dataframe\">\n",
       "  <thead>\n",
       "    <tr style=\"text-align: right;\">\n",
       "      <th></th>\n",
       "      <th>Date</th>\n",
       "      <th>Ticker</th>\n",
       "      <th>Exchange</th>\n",
       "      <th>Open</th>\n",
       "      <th>High</th>\n",
       "      <th>Low</th>\n",
       "      <th>Close</th>\n",
       "      <th>Adj Close</th>\n",
       "      <th>Volume</th>\n",
       "    </tr>\n",
       "  </thead>\n",
       "  <tbody>\n",
       "    <tr>\n",
       "      <th>0</th>\n",
       "      <td>1995-05-05</td>\n",
       "      <td>AATC</td>\n",
       "      <td>OTC</td>\n",
       "      <td>3.958333</td>\n",
       "      <td>4.375000</td>\n",
       "      <td>3.958333</td>\n",
       "      <td>4.218750</td>\n",
       "      <td>2.753274</td>\n",
       "      <td>70080.0</td>\n",
       "    </tr>\n",
       "    <tr>\n",
       "      <th>1</th>\n",
       "      <td>1995-05-08</td>\n",
       "      <td>AATC</td>\n",
       "      <td>OTC</td>\n",
       "      <td>4.375000</td>\n",
       "      <td>4.375000</td>\n",
       "      <td>4.062500</td>\n",
       "      <td>4.166667</td>\n",
       "      <td>2.719283</td>\n",
       "      <td>12720.0</td>\n",
       "    </tr>\n",
       "    <tr>\n",
       "      <th>2</th>\n",
       "      <td>1995-05-09</td>\n",
       "      <td>AATC</td>\n",
       "      <td>OTC</td>\n",
       "      <td>4.166667</td>\n",
       "      <td>4.166667</td>\n",
       "      <td>3.958333</td>\n",
       "      <td>4.062500</td>\n",
       "      <td>2.651301</td>\n",
       "      <td>15000.0</td>\n",
       "    </tr>\n",
       "    <tr>\n",
       "      <th>3</th>\n",
       "      <td>1995-05-10</td>\n",
       "      <td>AATC</td>\n",
       "      <td>OTC</td>\n",
       "      <td>4.166667</td>\n",
       "      <td>4.166667</td>\n",
       "      <td>3.958333</td>\n",
       "      <td>4.166667</td>\n",
       "      <td>2.719283</td>\n",
       "      <td>7440.0</td>\n",
       "    </tr>\n",
       "    <tr>\n",
       "      <th>4</th>\n",
       "      <td>1995-05-11</td>\n",
       "      <td>AATC</td>\n",
       "      <td>OTC</td>\n",
       "      <td>4.062500</td>\n",
       "      <td>4.375000</td>\n",
       "      <td>4.062500</td>\n",
       "      <td>4.166667</td>\n",
       "      <td>2.719283</td>\n",
       "      <td>9960.0</td>\n",
       "    </tr>\n",
       "  </tbody>\n",
       "</table>\n",
       "</div>"
      ],
      "text/plain": [
       "         Date Ticker Exchange      Open      High       Low     Close  \\\n",
       "0  1995-05-05   AATC      OTC  3.958333  4.375000  3.958333  4.218750   \n",
       "1  1995-05-08   AATC      OTC  4.375000  4.375000  4.062500  4.166667   \n",
       "2  1995-05-09   AATC      OTC  4.166667  4.166667  3.958333  4.062500   \n",
       "3  1995-05-10   AATC      OTC  4.166667  4.166667  3.958333  4.166667   \n",
       "4  1995-05-11   AATC      OTC  4.062500  4.375000  4.062500  4.166667   \n",
       "\n",
       "   Adj Close   Volume  \n",
       "0   2.753274  70080.0  \n",
       "1   2.719283  12720.0  \n",
       "2   2.651301  15000.0  \n",
       "3   2.719283   7440.0  \n",
       "4   2.719283   9960.0  "
      ]
     },
     "execution_count": 39,
     "metadata": {},
     "output_type": "execute_result"
    }
   ],
   "source": [
    "OTC.head()"
   ]
  },
  {
   "cell_type": "code",
   "execution_count": 40,
   "metadata": {},
   "outputs": [
    {
     "data": {
      "text/html": [
       "<div>\n",
       "<style scoped>\n",
       "    .dataframe tbody tr th:only-of-type {\n",
       "        vertical-align: middle;\n",
       "    }\n",
       "\n",
       "    .dataframe tbody tr th {\n",
       "        vertical-align: top;\n",
       "    }\n",
       "\n",
       "    .dataframe thead th {\n",
       "        text-align: right;\n",
       "    }\n",
       "</style>\n",
       "<table border=\"1\" class=\"dataframe\">\n",
       "  <thead>\n",
       "    <tr style=\"text-align: right;\">\n",
       "      <th></th>\n",
       "      <th>Date</th>\n",
       "      <th>Ticker</th>\n",
       "      <th>Exchange</th>\n",
       "      <th>Open</th>\n",
       "      <th>High</th>\n",
       "      <th>Low</th>\n",
       "      <th>Close</th>\n",
       "      <th>Adj Close</th>\n",
       "      <th>Volume</th>\n",
       "    </tr>\n",
       "  </thead>\n",
       "  <tbody>\n",
       "    <tr>\n",
       "      <th>725155</th>\n",
       "      <td>1986-08-13</td>\n",
       "      <td>ENZN</td>\n",
       "      <td>OTC</td>\n",
       "      <td>0.0</td>\n",
       "      <td>8.75</td>\n",
       "      <td>8.625</td>\n",
       "      <td>8.625</td>\n",
       "      <td>0.170229</td>\n",
       "      <td>23700.0</td>\n",
       "    </tr>\n",
       "  </tbody>\n",
       "</table>\n",
       "</div>"
      ],
      "text/plain": [
       "              Date Ticker Exchange  Open  High    Low  Close  Adj Close  \\\n",
       "725155  1986-08-13   ENZN      OTC   0.0  8.75  8.625  8.625   0.170229   \n",
       "\n",
       "         Volume  \n",
       "725155  23700.0  "
      ]
     },
     "execution_count": 40,
     "metadata": {},
     "output_type": "execute_result"
    }
   ],
   "source": [
    "OTC.sample()"
   ]
  },
  {
   "cell_type": "markdown",
   "metadata": {},
   "source": [
    "## Conversión de Fechas\n",
    "\n",
    "##### Convierte la columna de fechas del dataset a objetos DateTime de Pandas y establece esta columna como índice."
   ]
  },
  {
   "cell_type": "code",
   "execution_count": 41,
   "metadata": {},
   "outputs": [],
   "source": [
    "NASDAQ['Date']= pd.to_datetime(NASDAQ['Date'])\n",
    "NASDAQ=NASDAQ.set_index('Date')"
   ]
  },
  {
   "cell_type": "code",
   "execution_count": 42,
   "metadata": {},
   "outputs": [],
   "source": [
    "NYSE['Date']= pd.to_datetime(NYSE['Date'])\n",
    "NYSE=NYSE.set_index('Date')"
   ]
  },
  {
   "cell_type": "code",
   "execution_count": 43,
   "metadata": {},
   "outputs": [],
   "source": [
    "NYSE_A['Date']= pd.to_datetime(NYSE_A['Date'])\n",
    "NYSE_A=NYSE_A.set_index('Date')"
   ]
  },
  {
   "cell_type": "code",
   "execution_count": 44,
   "metadata": {},
   "outputs": [],
   "source": [
    "OTC['Date']= pd.to_datetime(OTC['Date'])\n",
    "OTC=OTC.set_index('Date')"
   ]
  },
  {
   "cell_type": "markdown",
   "metadata": {},
   "source": [
    "## Filtrado por Año\n",
    "\n",
    "##### Filtra los datos para obtener todas las acciones del año 2020."
   ]
  },
  {
   "cell_type": "code",
   "execution_count": 45,
   "metadata": {},
   "outputs": [
    {
     "ename": "SyntaxError",
     "evalue": "invalid syntax (1660178412.py, line 1)",
     "output_type": "error",
     "traceback": [
      "\u001b[1;36m  Cell \u001b[1;32mIn[45], line 1\u001b[1;36m\u001b[0m\n\u001b[1;33m    NASDAQ[NASDAQ.index.]\u001b[0m\n\u001b[1;37m                        ^\u001b[0m\n\u001b[1;31mSyntaxError\u001b[0m\u001b[1;31m:\u001b[0m invalid syntax\n"
     ]
    }
   ],
   "source": [
    "NASDAQ[NASDAQ.index.nombres]"
   ]
  },
  {
   "cell_type": "code",
   "execution_count": null,
   "metadata": {},
   "outputs": [],
   "source": [
    "dic =[{'nombre':'Abraham','edad':15},{'nombre':'Juan','edad':13},{'nombre':'Pedro','edad':18}]\n",
    "\n",
    "nombres=pd.DataFrame(dic)"
   ]
  },
  {
   "cell_type": "code",
   "execution_count": null,
   "metadata": {},
   "outputs": [
    {
     "data": {
      "text/html": [
       "<div>\n",
       "<style scoped>\n",
       "    .dataframe tbody tr th:only-of-type {\n",
       "        vertical-align: middle;\n",
       "    }\n",
       "\n",
       "    .dataframe tbody tr th {\n",
       "        vertical-align: top;\n",
       "    }\n",
       "\n",
       "    .dataframe thead th {\n",
       "        text-align: right;\n",
       "    }\n",
       "</style>\n",
       "<table border=\"1\" class=\"dataframe\">\n",
       "  <thead>\n",
       "    <tr style=\"text-align: right;\">\n",
       "      <th></th>\n",
       "      <th>nombre</th>\n",
       "      <th>edad</th>\n",
       "    </tr>\n",
       "  </thead>\n",
       "  <tbody>\n",
       "    <tr>\n",
       "      <th>0</th>\n",
       "      <td>Abraham</td>\n",
       "      <td>15</td>\n",
       "    </tr>\n",
       "    <tr>\n",
       "      <th>1</th>\n",
       "      <td>Juan</td>\n",
       "      <td>13</td>\n",
       "    </tr>\n",
       "    <tr>\n",
       "      <th>2</th>\n",
       "      <td>Pedro</td>\n",
       "      <td>18</td>\n",
       "    </tr>\n",
       "  </tbody>\n",
       "</table>\n",
       "</div>"
      ],
      "text/plain": [
       "    nombre  edad\n",
       "0  Abraham    15\n",
       "1     Juan    13\n",
       "2    Pedro    18"
      ]
     },
     "execution_count": 29,
     "metadata": {},
     "output_type": "execute_result"
    }
   ],
   "source": [
    "nombres"
   ]
  },
  {
   "cell_type": "code",
   "execution_count": null,
   "metadata": {},
   "outputs": [],
   "source": [
    "nombres=nombres.set_index"
   ]
  },
  {
   "cell_type": "markdown",
   "metadata": {},
   "source": [
    "## 4.Visualización Semanal\n",
    "##### Crea una visualización de la serie de tiempo del precio de cierre semanal de una acción específica.\n"
   ]
  },
  {
   "cell_type": "code",
   "execution_count": 48,
   "metadata": {},
   "outputs": [
    {
     "data": {
      "text/html": [
       "<div>\n",
       "<style scoped>\n",
       "    .dataframe tbody tr th:only-of-type {\n",
       "        vertical-align: middle;\n",
       "    }\n",
       "\n",
       "    .dataframe tbody tr th {\n",
       "        vertical-align: top;\n",
       "    }\n",
       "\n",
       "    .dataframe thead th {\n",
       "        text-align: right;\n",
       "    }\n",
       "</style>\n",
       "<table border=\"1\" class=\"dataframe\">\n",
       "  <thead>\n",
       "    <tr style=\"text-align: right;\">\n",
       "      <th></th>\n",
       "      <th>Ticker</th>\n",
       "      <th>Exchange</th>\n",
       "      <th>Open</th>\n",
       "      <th>High</th>\n",
       "      <th>Low</th>\n",
       "      <th>Close</th>\n",
       "      <th>Adj Close</th>\n",
       "      <th>Volume</th>\n",
       "      <th>week no</th>\n",
       "      <th>week_no</th>\n",
       "    </tr>\n",
       "    <tr>\n",
       "      <th>Date</th>\n",
       "      <th></th>\n",
       "      <th></th>\n",
       "      <th></th>\n",
       "      <th></th>\n",
       "      <th></th>\n",
       "      <th></th>\n",
       "      <th></th>\n",
       "      <th></th>\n",
       "      <th></th>\n",
       "      <th></th>\n",
       "    </tr>\n",
       "  </thead>\n",
       "  <tbody>\n",
       "    <tr>\n",
       "      <th>2023-07-11</th>\n",
       "      <td>CAN</td>\n",
       "      <td>NASDAQ</td>\n",
       "      <td>2.75</td>\n",
       "      <td>2.92</td>\n",
       "      <td>2.675</td>\n",
       "      <td>2.92</td>\n",
       "      <td>2.92</td>\n",
       "      <td>6365800.0</td>\n",
       "      <td>2023-07-11</td>\n",
       "      <td>2023-07-11</td>\n",
       "    </tr>\n",
       "  </tbody>\n",
       "</table>\n",
       "</div>"
      ],
      "text/plain": [
       "           Ticker Exchange  Open  High    Low  Close  Adj Close     Volume  \\\n",
       "Date                                                                         \n",
       "2023-07-11    CAN   NASDAQ  2.75  2.92  2.675   2.92       2.92  6365800.0   \n",
       "\n",
       "              week no    week_no  \n",
       "Date                              \n",
       "2023-07-11 2023-07-11 2023-07-11  "
      ]
     },
     "execution_count": 48,
     "metadata": {},
     "output_type": "execute_result"
    }
   ],
   "source": [
    "NASDAQ['week_no'] = NASDAQ.index\n",
    "NASDAQ['week_no'].dt.isocalendar().week\n",
    "NASDAQ.sample()"
   ]
  },
  {
   "cell_type": "code",
   "execution_count": 49,
   "metadata": {},
   "outputs": [
    {
     "data": {
      "text/plain": [
       "Ticker  week_no   \n",
       "AACG    2008-01-29     8.75\n",
       "        2008-01-30     8.50\n",
       "        2008-01-31     9.55\n",
       "        2008-02-01     9.51\n",
       "        2008-02-04     9.50\n",
       "                      ...  \n",
       "ZYXI    2024-05-16    11.00\n",
       "        2024-05-17    10.88\n",
       "        2024-05-20    10.56\n",
       "        2024-05-21    10.58\n",
       "        2024-05-22    10.47\n",
       "Name: Close, Length: 11470493, dtype: float64"
      ]
     },
     "execution_count": 49,
     "metadata": {},
     "output_type": "execute_result"
    }
   ],
   "source": [
    "NASDAQ.groupby(['Ticker','week_no'])['Close'].mean()"
   ]
  },
  {
   "cell_type": "code",
   "execution_count": 50,
   "metadata": {},
   "outputs": [
    {
     "data": {
      "text/html": [
       "<div>\n",
       "<style scoped>\n",
       "    .dataframe tbody tr th:only-of-type {\n",
       "        vertical-align: middle;\n",
       "    }\n",
       "\n",
       "    .dataframe tbody tr th {\n",
       "        vertical-align: top;\n",
       "    }\n",
       "\n",
       "    .dataframe thead th {\n",
       "        text-align: right;\n",
       "    }\n",
       "</style>\n",
       "<table border=\"1\" class=\"dataframe\">\n",
       "  <thead>\n",
       "    <tr style=\"text-align: right;\">\n",
       "      <th></th>\n",
       "      <th>Ticker</th>\n",
       "      <th>Exchange</th>\n",
       "      <th>Open</th>\n",
       "      <th>High</th>\n",
       "      <th>Low</th>\n",
       "      <th>Close</th>\n",
       "      <th>Adj Close</th>\n",
       "      <th>Volume</th>\n",
       "      <th>week_no</th>\n",
       "    </tr>\n",
       "    <tr>\n",
       "      <th>Date</th>\n",
       "      <th></th>\n",
       "      <th></th>\n",
       "      <th></th>\n",
       "      <th></th>\n",
       "      <th></th>\n",
       "      <th></th>\n",
       "      <th></th>\n",
       "      <th></th>\n",
       "      <th></th>\n",
       "    </tr>\n",
       "  </thead>\n",
       "  <tbody>\n",
       "    <tr>\n",
       "      <th>2005-07-19</th>\n",
       "      <td>AEE</td>\n",
       "      <td>NYSE</td>\n",
       "      <td>55.41</td>\n",
       "      <td>55.799999</td>\n",
       "      <td>55.279999</td>\n",
       "      <td>55.599998</td>\n",
       "      <td>25.530619</td>\n",
       "      <td>602800.0</td>\n",
       "      <td>2005-07-19</td>\n",
       "    </tr>\n",
       "  </tbody>\n",
       "</table>\n",
       "</div>"
      ],
      "text/plain": [
       "           Ticker Exchange   Open       High        Low      Close  Adj Close  \\\n",
       "Date                                                                            \n",
       "2005-07-19    AEE     NYSE  55.41  55.799999  55.279999  55.599998  25.530619   \n",
       "\n",
       "              Volume    week_no  \n",
       "Date                             \n",
       "2005-07-19  602800.0 2005-07-19  "
      ]
     },
     "execution_count": 50,
     "metadata": {},
     "output_type": "execute_result"
    }
   ],
   "source": [
    "NYSE['week_no'] = NYSE.index\n",
    "NYSE['week_no'].dt.isocalendar().week\n",
    "NYSE.sample()"
   ]
  },
  {
   "cell_type": "code",
   "execution_count": 51,
   "metadata": {},
   "outputs": [
    {
     "data": {
      "text/plain": [
       "Ticker  week_no   \n",
       "A       1999-11-18    31.473534\n",
       "        1999-11-19    28.880545\n",
       "        1999-11-22    31.473534\n",
       "        1999-11-23    28.612303\n",
       "        1999-11-24    29.372318\n",
       "                        ...    \n",
       "ZWS     2024-05-16    32.349998\n",
       "        2024-05-17    32.529999\n",
       "        2024-05-20    32.599998\n",
       "        2024-05-21    32.660000\n",
       "        2024-05-22    32.220001\n",
       "Name: Close, Length: 10844147, dtype: float64"
      ]
     },
     "execution_count": 51,
     "metadata": {},
     "output_type": "execute_result"
    }
   ],
   "source": [
    "NYSE.groupby(['Ticker','week_no'])['Close'].mean()"
   ]
  },
  {
   "cell_type": "code",
   "execution_count": 52,
   "metadata": {},
   "outputs": [
    {
     "data": {
      "text/html": [
       "<div>\n",
       "<style scoped>\n",
       "    .dataframe tbody tr th:only-of-type {\n",
       "        vertical-align: middle;\n",
       "    }\n",
       "\n",
       "    .dataframe tbody tr th {\n",
       "        vertical-align: top;\n",
       "    }\n",
       "\n",
       "    .dataframe thead th {\n",
       "        text-align: right;\n",
       "    }\n",
       "</style>\n",
       "<table border=\"1\" class=\"dataframe\">\n",
       "  <thead>\n",
       "    <tr style=\"text-align: right;\">\n",
       "      <th></th>\n",
       "      <th>Ticker</th>\n",
       "      <th>Exchange</th>\n",
       "      <th>Open</th>\n",
       "      <th>High</th>\n",
       "      <th>Low</th>\n",
       "      <th>Close</th>\n",
       "      <th>Adj Close</th>\n",
       "      <th>Volume</th>\n",
       "      <th>week_no</th>\n",
       "    </tr>\n",
       "    <tr>\n",
       "      <th>Date</th>\n",
       "      <th></th>\n",
       "      <th></th>\n",
       "      <th></th>\n",
       "      <th></th>\n",
       "      <th></th>\n",
       "      <th></th>\n",
       "      <th></th>\n",
       "      <th></th>\n",
       "      <th></th>\n",
       "    </tr>\n",
       "  </thead>\n",
       "  <tbody>\n",
       "    <tr>\n",
       "      <th>2016-03-17</th>\n",
       "      <td>DXF</td>\n",
       "      <td>NYSE A</td>\n",
       "      <td>36.900002</td>\n",
       "      <td>37.5</td>\n",
       "      <td>36.900002</td>\n",
       "      <td>37.200001</td>\n",
       "      <td>37.200001</td>\n",
       "      <td>27.0</td>\n",
       "      <td>2016-03-17</td>\n",
       "    </tr>\n",
       "  </tbody>\n",
       "</table>\n",
       "</div>"
      ],
      "text/plain": [
       "           Ticker Exchange       Open  High        Low      Close  Adj Close  \\\n",
       "Date                                                                           \n",
       "2016-03-17    DXF   NYSE A  36.900002  37.5  36.900002  37.200001  37.200001   \n",
       "\n",
       "            Volume    week_no  \n",
       "Date                           \n",
       "2016-03-17    27.0 2016-03-17  "
      ]
     },
     "execution_count": 52,
     "metadata": {},
     "output_type": "execute_result"
    }
   ],
   "source": [
    "NYSE_A['week_no'] = NYSE_A.index\n",
    "NYSE_A['week_no'].dt.isocalendar().week\n",
    "NYSE_A.sample()"
   ]
  },
  {
   "cell_type": "code",
   "execution_count": 53,
   "metadata": {},
   "outputs": [
    {
     "data": {
      "text/plain": [
       "Ticker  week_no   \n",
       "AAMC    2022-03-21    9.264706\n",
       "        2022-03-22    8.647059\n",
       "        2022-03-23    8.264706\n",
       "        2022-03-24    8.394118\n",
       "        2022-03-25    8.958824\n",
       "                        ...   \n",
       "ZONE    2024-05-16    3.490000\n",
       "        2024-05-17    3.260000\n",
       "        2024-05-20    3.350000\n",
       "        2024-05-21    3.320000\n",
       "        2024-05-22    3.100000\n",
       "Name: Close, Length: 1020222, dtype: float64"
      ]
     },
     "execution_count": 53,
     "metadata": {},
     "output_type": "execute_result"
    }
   ],
   "source": [
    "NYSE_A.groupby(['Ticker','week_no'])['Close'].mean()"
   ]
  },
  {
   "cell_type": "code",
   "execution_count": 54,
   "metadata": {},
   "outputs": [
    {
     "data": {
      "text/html": [
       "<div>\n",
       "<style scoped>\n",
       "    .dataframe tbody tr th:only-of-type {\n",
       "        vertical-align: middle;\n",
       "    }\n",
       "\n",
       "    .dataframe tbody tr th {\n",
       "        vertical-align: top;\n",
       "    }\n",
       "\n",
       "    .dataframe thead th {\n",
       "        text-align: right;\n",
       "    }\n",
       "</style>\n",
       "<table border=\"1\" class=\"dataframe\">\n",
       "  <thead>\n",
       "    <tr style=\"text-align: right;\">\n",
       "      <th></th>\n",
       "      <th>Ticker</th>\n",
       "      <th>Exchange</th>\n",
       "      <th>Open</th>\n",
       "      <th>High</th>\n",
       "      <th>Low</th>\n",
       "      <th>Close</th>\n",
       "      <th>Adj Close</th>\n",
       "      <th>Volume</th>\n",
       "      <th>week_no</th>\n",
       "    </tr>\n",
       "    <tr>\n",
       "      <th>Date</th>\n",
       "      <th></th>\n",
       "      <th></th>\n",
       "      <th></th>\n",
       "      <th></th>\n",
       "      <th></th>\n",
       "      <th></th>\n",
       "      <th></th>\n",
       "      <th></th>\n",
       "      <th></th>\n",
       "    </tr>\n",
       "  </thead>\n",
       "  <tbody>\n",
       "    <tr>\n",
       "      <th>2016-10-03</th>\n",
       "      <td>GGEI</td>\n",
       "      <td>OTC</td>\n",
       "      <td>4.6222</td>\n",
       "      <td>4.627</td>\n",
       "      <td>3.78</td>\n",
       "      <td>4.0</td>\n",
       "      <td>4.0</td>\n",
       "      <td>159701.0</td>\n",
       "      <td>2016-10-03</td>\n",
       "    </tr>\n",
       "  </tbody>\n",
       "</table>\n",
       "</div>"
      ],
      "text/plain": [
       "           Ticker Exchange    Open   High   Low  Close  Adj Close    Volume  \\\n",
       "Date                                                                          \n",
       "2016-10-03   GGEI      OTC  4.6222  4.627  3.78    4.0        4.0  159701.0   \n",
       "\n",
       "              week_no  \n",
       "Date                   \n",
       "2016-10-03 2016-10-03  "
      ]
     },
     "execution_count": 54,
     "metadata": {},
     "output_type": "execute_result"
    }
   ],
   "source": [
    "OTC['week_no'] = OTC.index\n",
    "OTC['week_no'].dt.isocalendar().week\n",
    "OTC.sample()"
   ]
  },
  {
   "cell_type": "code",
   "execution_count": 55,
   "metadata": {},
   "outputs": [
    {
     "data": {
      "text/plain": [
       "Ticker  week_no   \n",
       "AATC    1995-05-05    4.218750\n",
       "        1995-05-08    4.166667\n",
       "        1995-05-09    4.062500\n",
       "        1995-05-10    4.166667\n",
       "        1995-05-11    4.166667\n",
       "                        ...   \n",
       "ZVOI    2024-05-16    0.000100\n",
       "        2024-05-17    0.000100\n",
       "        2024-05-20    0.000100\n",
       "        2024-05-21    0.000100\n",
       "        2024-05-22    0.000100\n",
       "Name: Close, Length: 2521996, dtype: float64"
      ]
     },
     "execution_count": 55,
     "metadata": {},
     "output_type": "execute_result"
    }
   ],
   "source": [
    "OTC.groupby(['Ticker','week_no'])['Close'].mean()"
   ]
  },
  {
   "cell_type": "code",
   "execution_count": null,
   "metadata": {},
   "outputs": [],
   "source": [
    "NYSE_A[\"ZONE\"].plot(x=NYSE_A[\"ZONE\"],y=NYSE_A['ZONE'],kind=line"
   ]
  },
  {
   "cell_type": "code",
   "execution_count": null,
   "metadata": {},
   "outputs": [],
   "source": [
    "OTC[\"ZVOI\"].plot(x=OTC[\"ZVOI\"],y=OTC['ZVOI'],kind=line"
   ]
  },
  {
   "cell_type": "code",
   "execution_count": null,
   "metadata": {},
   "outputs": [],
   "source": [
    "NYSE[\"ZWS\"].plot(x=NYSE[\"ZWS\"],y=NYSE['ZWS'],kind=line"
   ]
  },
  {
   "cell_type": "code",
   "execution_count": null,
   "metadata": {},
   "outputs": [],
   "source": [
    "NASDAQ[\"ZONE\"].plot(x=NASDAQ[\"ZONE\"],y=NASDAQ['ZONE'],kind=line"
   ]
  },
  {
   "cell_type": "markdown",
   "metadata": {},
   "source": [
    "7.Ventas de tiempo"
   ]
  },
  {
   "cell_type": "code",
   "execution_count": null,
   "metadata": {},
   "outputs": [],
   "source": [
    "NASDAQ['Media_Movil_7D'] = NASDAQ['Volume'].rolling(window=7).mean() NASDAQ. sample()"
   ]
  },
  {
   "cell_type": "code",
   "execution_count": null,
   "metadata": {},
   "outputs": [],
   "source": [
    "NYSE[\"Media_Movil_7D\"] = NYSE['Volume'].rolling(window=7).mean() NYSE.sample()"
   ]
  },
  {
   "cell_type": "code",
   "execution_count": null,
   "metadata": {},
   "outputs": [],
   "source": [
    "NYSE_A['Media_Movil_7D'] = NYSE_A['Volume'].rolling(window=7).mean() NYSE_A.sample()\n"
   ]
  },
  {
   "cell_type": "code",
   "execution_count": null,
   "metadata": {},
   "outputs": [],
   "source": [
    "OTC['Media_Movil_7D'] = OTC['Volume'].rolling(window=7).mean() OTC.sample()"
   ]
  },
  {
   "cell_type": "markdown",
   "metadata": {},
   "source": [
    "8. Intervalo de tiempo"
   ]
  },
  {
   "cell_type": "code",
   "execution_count": null,
   "metadata": {},
   "outputs": [],
   "source": [
    "#Definir el intervalo de tiempo\n",
    "Inicio = \"20-05-01\" Fin = \"2024-05-30\" \n",
    "#Ordenar los indices de menor a mayor \n",
    "NASDAQ.sort_index(inplace=True) NASDAQ. loc[Inicio:Fin]"
   ]
  },
  {
   "cell_type": "code",
   "execution_count": null,
   "metadata": {},
   "outputs": [],
   "source": [
    "#Definir el intervalo de tiempo\n",
    "Inicio = \"20-05-01\" Fin = \"2024-05-30\" \n",
    "#Ordenar los indices de menor a mayor \n",
    "NYSE.sort_index(inplace=True) NYSE. loc[Inicio:Fin]"
   ]
  },
  {
   "cell_type": "code",
   "execution_count": null,
   "metadata": {},
   "outputs": [],
   "source": [
    "#Definir el intervalo de tiempo\n",
    "Inicio = \"20-05-01\" Fin = \"2024-05-30\" \n",
    "#Ordenar los indices de menor a mayor \n",
    "NYSE_A.sort_index(inplace=True) NYSE_A. loc[Inicio:Fin]"
   ]
  },
  {
   "cell_type": "code",
   "execution_count": null,
   "metadata": {},
   "outputs": [],
   "source": [
    "#Definir el intervalo de tiempo\n",
    "Inicio = \"20-05-01\" Fin = \"2024-05-30\" \n",
    "#Ordenar los indices de menor a mayor \n",
    "OTC.sort_index(inplace=True) OTC.loc[Inicio:Fin]"
   ]
  },
  {
   "cell_type": "markdown",
   "metadata": {},
   "source": [
    "9. Desplazamiento de tiempo"
   ]
  },
  {
   "cell_type": "code",
   "execution_count": null,
   "metadata": {},
   "outputs": [],
   "source": [
    "#Transformacion de datos\n",
    "NASDAQ['Fecha']= NASDAQ. index\n",
    "df = NASDAQ[['Fecha','Close']]\n",
    "df = df.groupby('Fecha')['Close'].mean()\n",
    "# Supongamos que \"df' es una serie y 'close' es la columna con los precios de cierre\n",
    "# Asegurate de que el indice de \"df' sea un Datetimeindex\n",
    "# Desplazamiento hacia atras por 30 dias\n",
    "backward_shifted = df. shift(periods=-30, freq='D')\n",
    "# Desplazamiento hacia adelante por 30 dias\n",
    "forward_shifted = df.shift(periods=30, freq='D')\n",
    "# comparar los precios de cierre originales con los desplazados\n",
    "comparison_df = pd.DataFrame({'backward_shifted':backward_shifted,\n",
    "                              'Close':df,\n",
    "                              'Forward_Shifted': forward_shifted})"
   ]
  },
  {
   "cell_type": "code",
   "execution_count": null,
   "metadata": {},
   "outputs": [],
   "source": [
    "#Transformacion de datos\n",
    "NYSE['Fecha']= NYSE. index\n",
    "df = NYSE[['Fecha','Close']]\n",
    "df = df.groupby('Fecha')['Close'].mean()\n",
    "# Supongamos que \"df' es una serie y 'close' es la columna con los precios de cierre\n",
    "# Asegurate de que el indice de \"df' sea un Datetimeindex\n",
    "# Desplazamiento hacia atras por 30 dias\n",
    "backward_shifted = df. shift(periods=-30, freq='D')\n",
    "# Desplazamiento hacia adelante por 30 dias\n",
    "forward_shifted = df.shift(periods=30, freq='D')\n",
    "# comparar los precios de cierre originales con los desplazados\n",
    "comparison_df = pd.DataFrame({'backward_shifted':backward_shifted,\n",
    "                              'Close':df,\n",
    "                              'Forward_Shifted': forward_shifted})"
   ]
  },
  {
   "cell_type": "code",
   "execution_count": null,
   "metadata": {},
   "outputs": [],
   "source": [
    "#Transformacion de datos\n",
    "NYSE_A['Fecha']= NYSE_A. index\n",
    "df = NYSE_A[['Fecha','Close']]\n",
    "df = df.groupby('Fecha')['Close'].mean()\n",
    "# Supongamos que \"df' es una serie y 'close' es la columna con los precios de cierre\n",
    "# Asegurate de que el indice de \"df' sea un Datetimeindex\n",
    "# Desplazamiento hacia atras por 30 dias\n",
    "backward_shifted = df. shift(periods=-30, freq='D')\n",
    "# Desplazamiento hacia adelante por 30 dias\n",
    "forward_shifted = df.shift(periods=30, freq='D')\n",
    "# comparar los precios de cierre originales con los desplazados\n",
    "comparison_df = pd.DataFrame({'backward_shifted':backward_shifted,\n",
    "                              'Close':df,\n",
    "                              'Forward_Shifted': forward_shifted})"
   ]
  },
  {
   "cell_type": "code",
   "execution_count": null,
   "metadata": {},
   "outputs": [],
   "source": [
    "#Transformacion de datos\n",
    "OTC['Fecha']= OTC. index\n",
    "df = OTC[['Fecha','Close']]\n",
    "df = df.groupby('Fecha')['Close'].mean()\n",
    "# Supongamos que \"df' es una serie y 'close' es la columna con los precios de cierre\n",
    "# Asegurate de que el indice de \"df' sea un Datetimeindex\n",
    "# Desplazamiento hacia atras por 30 dias\n",
    "backward_shifted = df. shift(periods=-30, freq='D')\n",
    "# Desplazamiento hacia adelante por 30 dias\n",
    "forward_shifted = df.shift(periods=30, freq='D')\n",
    "# comparar los precios de cierre originales con los desplazados\n",
    "comparison_df = pd.DataFrame({'backward_shifted':backward_shifted,\n",
    "                              'Close':df,\n",
    "                              'Forward_Shifted': forward_shifted})"
   ]
  }
 ],
 "metadata": {
  "kernelspec": {
   "display_name": "Python 3",
   "language": "python",
   "name": "python3"
  },
  "language_info": {
   "codemirror_mode": {
    "name": "ipython",
    "version": 3
   },
   "file_extension": ".py",
   "mimetype": "text/x-python",
   "name": "python",
   "nbconvert_exporter": "python",
   "pygments_lexer": "ipython3",
   "version": "3.11.9"
  }
 },
 "nbformat": 4,
 "nbformat_minor": 2
}
